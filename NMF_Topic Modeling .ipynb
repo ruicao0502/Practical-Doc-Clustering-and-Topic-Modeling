{
 "cells": [
  {
   "cell_type": "markdown",
   "metadata": {},
   "source": [
    "## Using Non-Negative Matrix Factorization for Topic Clustering "
   ]
  },
  {
   "cell_type": "markdown",
   "metadata": {},
   "source": [
    "### NMF Modeling for 5 Topic, Since The Area of Each Circle Is Almost Identical\n"
   ]
  },
  {
   "cell_type": "code",
   "execution_count": 6,
   "metadata": {
    "collapsed": true
   },
   "outputs": [],
   "source": [
    "import numpy as np\n",
    "import pandas as pd\n",
    "import nltk\n",
    "from bs4 import BeautifulSoup\n",
    "import re\n",
    "import os\n",
    "import codecs\n",
    "from sklearn import feature_extraction\n",
    "import mpld3"
   ]
  },
  {
   "cell_type": "code",
   "execution_count": 5,
   "metadata": {},
   "outputs": [
    {
     "data": {
      "text/html": [
       "<div>\n",
       "<style>\n",
       "    .dataframe thead tr:only-child th {\n",
       "        text-align: right;\n",
       "    }\n",
       "\n",
       "    .dataframe thead th {\n",
       "        text-align: left;\n",
       "    }\n",
       "\n",
       "    .dataframe tbody tr th {\n",
       "        vertical-align: top;\n",
       "    }\n",
       "</style>\n",
       "<table border=\"1\" class=\"dataframe\">\n",
       "  <thead>\n",
       "    <tr style=\"text-align: right;\">\n",
       "      <th></th>\n",
       "      <th>rank</th>\n",
       "      <th>title</th>\n",
       "      <th>cluster</th>\n",
       "      <th>speech</th>\n",
       "      <th>tokens</th>\n",
       "      <th>POS_nouns</th>\n",
       "      <th>tokens_nouns</th>\n",
       "    </tr>\n",
       "  </thead>\n",
       "  <tbody>\n",
       "    <tr>\n",
       "      <th>4</th>\n",
       "      <td>0</td>\n",
       "      <td>Barack_Obama_February_12,_2013</td>\n",
       "      <td>4</td>\n",
       "      <td>Mr. Speaker, Mr. Vice President, Members of Co...</td>\n",
       "      <td>[mr., speaker, mr., vice, presid, member, cong...</td>\n",
       "      <td>Mr. Speaker, Mr. Vice President, Members Congr...</td>\n",
       "      <td>[mr., speaker, mr., vice, presid, member, cong...</td>\n",
       "    </tr>\n",
       "    <tr>\n",
       "      <th>4</th>\n",
       "      <td>1</td>\n",
       "      <td>Barack_Obama_February_24,_2009</td>\n",
       "      <td>4</td>\n",
       "      <td>Madame Speaker, Mr. Vice President, Members of...</td>\n",
       "      <td>[madam, speaker, mr., vice, presid, member, co...</td>\n",
       "      <td>Madame Speaker, Mr. Vice President, Members Co...</td>\n",
       "      <td>[madam, speaker, mr., vice, presid, member, co...</td>\n",
       "    </tr>\n",
       "    <tr>\n",
       "      <th>4</th>\n",
       "      <td>2</td>\n",
       "      <td>Barack_Obama_January_12,_2016</td>\n",
       "      <td>4</td>\n",
       "      <td>Mr. Speaker, Mr. Vice President, Members of Co...</td>\n",
       "      <td>[mr., speaker, mr., vice, presid, member, cong...</td>\n",
       "      <td>Mr. Speaker, Mr. Vice President, Members Congr...</td>\n",
       "      <td>[mr., speaker, mr., vice, presid, member, cong...</td>\n",
       "    </tr>\n",
       "    <tr>\n",
       "      <th>4</th>\n",
       "      <td>3</td>\n",
       "      <td>Barack_Obama_January_20,_2015</td>\n",
       "      <td>4</td>\n",
       "      <td>The President. Mr. Speaker, Mr. Vice President...</td>\n",
       "      <td>[presid, mr., speaker, mr., vice, presid, memb...</td>\n",
       "      <td>President. Mr. Speaker, Mr. Vice President, Me...</td>\n",
       "      <td>[presid, mr., speaker, mr., vice, presid, memb...</td>\n",
       "    </tr>\n",
       "    <tr>\n",
       "      <th>4</th>\n",
       "      <td>4</td>\n",
       "      <td>Barack_Obama_January_24,_2012</td>\n",
       "      <td>4</td>\n",
       "      <td>Mr. Speaker, Mr. Vice President, members of Co...</td>\n",
       "      <td>[mr., speaker, mr., vice, presid, member, cong...</td>\n",
       "      <td>Mr. Speaker, Mr. Vice President, members Congr...</td>\n",
       "      <td>[mr., speaker, mr., vice, presid, member, cong...</td>\n",
       "    </tr>\n",
       "  </tbody>\n",
       "</table>\n",
       "</div>"
      ],
      "text/plain": [
       "   rank                           title  cluster  \\\n",
       "4     0  Barack_Obama_February_12,_2013        4   \n",
       "4     1  Barack_Obama_February_24,_2009        4   \n",
       "4     2   Barack_Obama_January_12,_2016        4   \n",
       "4     3   Barack_Obama_January_20,_2015        4   \n",
       "4     4   Barack_Obama_January_24,_2012        4   \n",
       "\n",
       "                                              speech  \\\n",
       "4  Mr. Speaker, Mr. Vice President, Members of Co...   \n",
       "4  Madame Speaker, Mr. Vice President, Members of...   \n",
       "4  Mr. Speaker, Mr. Vice President, Members of Co...   \n",
       "4  The President. Mr. Speaker, Mr. Vice President...   \n",
       "4  Mr. Speaker, Mr. Vice President, members of Co...   \n",
       "\n",
       "                                              tokens  \\\n",
       "4  [mr., speaker, mr., vice, presid, member, cong...   \n",
       "4  [madam, speaker, mr., vice, presid, member, co...   \n",
       "4  [mr., speaker, mr., vice, presid, member, cong...   \n",
       "4  [presid, mr., speaker, mr., vice, presid, memb...   \n",
       "4  [mr., speaker, mr., vice, presid, member, cong...   \n",
       "\n",
       "                                           POS_nouns  \\\n",
       "4  Mr. Speaker, Mr. Vice President, Members Congr...   \n",
       "4  Madame Speaker, Mr. Vice President, Members Co...   \n",
       "4  Mr. Speaker, Mr. Vice President, Members Congr...   \n",
       "4  President. Mr. Speaker, Mr. Vice President, Me...   \n",
       "4  Mr. Speaker, Mr. Vice President, members Congr...   \n",
       "\n",
       "                                        tokens_nouns  \n",
       "4  [mr., speaker, mr., vice, presid, member, cong...  \n",
       "4  [madam, speaker, mr., vice, presid, member, co...  \n",
       "4  [mr., speaker, mr., vice, presid, member, cong...  \n",
       "4  [presid, mr., speaker, mr., vice, presid, memb...  \n",
       "4  [mr., speaker, mr., vice, presid, member, cong...  "
      ]
     },
     "execution_count": 5,
     "metadata": {},
     "output_type": "execute_result"
    }
   ],
   "source": [
    "frame = pd.read_pickle('frame.pkl')\n",
    "frame.head()"
   ]
  },
  {
   "cell_type": "code",
   "execution_count": 7,
   "metadata": {
    "collapsed": true
   },
   "outputs": [],
   "source": [
    "from nltk.tokenize import word_tokenize, sent_tokenize\n",
    "from string import punctuation\n",
    "from nltk.corpus import stopwords\n",
    "def tokenizer_noStem(text):\n",
    "    try:\n",
    "        stop = set(stopwords.words('english'))\n",
    "        \n",
    "        tokens_ = [word_tokenize(sent) for sent in sent_tokenize(text)]\n",
    "        \n",
    "        tokens = []\n",
    "        for word in tokens_:\n",
    "            tokens += word\n",
    "  \n",
    "        tokens = list(filter(lambda t: t.lower() not in stop, tokens))\n",
    "        tokens = list(filter(lambda t: t not in punctuation, tokens))\n",
    "        tokens = list(filter(lambda t: t not in [u\"'s\", u\"n't\", u\"...\", u\"''\", u'``', # Remove any dash and ellipse\n",
    "                                            u'\\u2014', u'\\u2026', u'\\u2013'], tokens))\n",
    "        filtered_tokens = []\n",
    "        for token in tokens:\n",
    "            if re.search('[a-zA-Z]', token):\n",
    "                filtered_tokens.append(token)\n",
    "        \n",
    "        filtered_tokens = list(map(lambda token: token.lower(), filtered_tokens))\n",
    "        return filtered_tokens\n",
    "    except:\n",
    "        print('data can not be tokenized')"
   ]
  },
  {
   "cell_type": "code",
   "execution_count": 8,
   "metadata": {},
   "outputs": [
    {
     "name": "stdout",
     "output_type": "stream",
     "text": [
      "Wall time: 3.46 s\n"
     ]
    }
   ],
   "source": [
    "from sklearn.feature_extraction.text import TfidfVectorizer\n",
    "\n",
    "tfidf_vectorizer = TfidfVectorizer(max_df=0.8, max_features=200000,\n",
    "                                 min_df=0.2, stop_words='english',\n",
    "                                 use_idf=True, tokenizer=tokenizer_noStem, ngram_range=(1,3))\n",
    "%time tfidf_matrix = tfidf_vectorizer.fit_transform(frame['POS_nouns'])"
   ]
  },
  {
   "cell_type": "code",
   "execution_count": 17,
   "metadata": {},
   "outputs": [
    {
     "name": "stdout",
     "output_type": "stream",
     "text": [
      "Topics in NMF model:\n"
     ]
    }
   ],
   "source": [
    "from sklearn.decomposition import NMF\n",
    "nmf = NMF(init=\"nndsvd\",\n",
    "            n_components=5,\n",
    "            max_iter=200)\n",
    "nmf.fit(tfidf_matrix)\n",
    "topic_word = nmf.components_\n",
    "vocab_NMF = tfidf_vectorizer.get_feature_names()\n",
    "\n",
    "print(\"Topics in NMF model:\")"
   ]
  },
  {
   "cell_type": "code",
   "execution_count": 20,
   "metadata": {},
   "outputs": [
    {
     "name": "stdout",
     "output_type": "stream",
     "text": [
      "Topic 0: 're 've tonight 'll 'm businesses let health care parents plan century college child kids deficit reform welfare community schools workers\n",
      "Topic 1: farm production labor administration legislation expenditures united nations peoples recommendations housing communist management problems prices organization dollars act assistance cooperation benefits\n",
      "Topic 2: iraq terrorists terror afghanistan regime tonight enemies women september weapons enemy social security men women social relief tax relief troops intelligence medicare border\n",
      "Topic 3: vietnam crime tonight land cities south poverty communist billion man treaty community commitments asia quality life goals quality hopes goal europe\n",
      "Topic 4: energy oil inflation 've problems spending taxes soviet soviet union price administration rate needs balance middle foundation recession proposals middle east relations\n"
     ]
    }
   ],
   "source": [
    "n_top_words = 20\n",
    "topic_summaries = []\n",
    "for i, topic_dist in enumerate(topic_word):\n",
    "    topic_words = np.array(vocab_NMF)[np.argsort(topic_dist)][:-(n_top_words+1):-1]\n",
    "    topic_summaries.append(' '.join(topic_words))\n",
    "    print('Topic {}: {}'.format(i, ' '.join(topic_words)))"
   ]
  }
 ],
 "metadata": {
  "kernelspec": {
   "display_name": "Python 3",
   "language": "python",
   "name": "python3"
  },
  "language_info": {
   "codemirror_mode": {
    "name": "ipython",
    "version": 3
   },
   "file_extension": ".py",
   "mimetype": "text/x-python",
   "name": "python",
   "nbconvert_exporter": "python",
   "pygments_lexer": "ipython3",
   "version": "3.6.1"
  }
 },
 "nbformat": 4,
 "nbformat_minor": 2
}
